{
 "cells": [
  {
   "cell_type": "code",
   "execution_count": 66,
   "metadata": {},
   "outputs": [],
   "source": [
    "import numpy as np\n",
    "import dataframe as df\n",
    "from keras import *\n",
    "from keras.layers import *\n",
    "from keras.regularizers import *\n",
    "from keras.datasets import *\n",
    "from keras.models import *\n",
    "from keras.optimizers import *\n",
    "from keras.utils import np_utils\n",
    "from keras.callbacks import EarlyStopping, ModelCheckpoint\n",
    "import matplotlib.pyplot as plt\n",
    "import tensorflow as tf"
   ]
  },
  {
   "cell_type": "code",
   "execution_count": 67,
   "metadata": {},
   "outputs": [],
   "source": [
    "(x_train,y_train),(x_test,y_test) = mnist.load_data()"
   ]
  },
  {
   "cell_type": "code",
   "execution_count": 68,
   "metadata": {},
   "outputs": [
    {
     "name": "stdout",
     "output_type": "stream",
     "text": [
      "(60000, 28, 28)\n",
      "(10000, 28, 28)\n",
      "(60000, 28, 28, 1)\n",
      "(10000, 28, 28, 1)\n"
     ]
    }
   ],
   "source": [
    "x_train = x_train/255.0\n",
    "x_test = x_test/255.0\n",
    "\n",
    "print(x_train.shape)\n",
    "print(x_test.shape)\n",
    "\n",
    "x_train = x_train.reshape(x_train.shape[0],28,28,1)\n",
    "x_test = x_test.reshape(x_test.shape[0],28,28,1)\n",
    "\n",
    "print(x_train.shape)\n",
    "print(x_test.shape)\n",
    "\n",
    "x_train = x_train.reshape((len(x_train), np.prod(x_train.shape[1:])))\n",
    "x_test = x_test.reshape((len(x_test), np.prod(x_test.shape[1:])))"
   ]
  },
  {
   "cell_type": "code",
   "execution_count": null,
   "metadata": {},
   "outputs": [],
   "source": []
  },
  {
   "cell_type": "markdown",
   "metadata": {},
   "source": [
    "MSE performs much better than MAE in autoencoders. They also can achieve very low loss. \n",
    "Instad of softmax use sigmoid for better visualization of the decoded image."
   ]
  },
  {
   "cell_type": "code",
   "execution_count": 33,
   "metadata": {},
   "outputs": [
    {
     "ename": "SyntaxError",
     "evalue": "invalid syntax (<ipython-input-33-e5dc56210d5a>, line 1)",
     "output_type": "error",
     "traceback": [
      "\u001b[0;36m  File \u001b[0;32m\"<ipython-input-33-e5dc56210d5a>\"\u001b[0;36m, line \u001b[0;32m1\u001b[0m\n\u001b[0;31m    MSE performs much better than MAE in autoencoders. They also can achieve very low loss.\u001b[0m\n\u001b[0m               ^\u001b[0m\n\u001b[0;31mSyntaxError\u001b[0m\u001b[0;31m:\u001b[0m invalid syntax\n"
     ]
    }
   ],
   "source": [
    "MSE performs much better than MAE in autoencoders. They also can achieve very low loss. \n",
    "Instad of softmax use sigmoid for better visualization of the decoded image."
   ]
  },
  {
   "cell_type": "code",
   "execution_count": 70,
   "metadata": {},
   "outputs": [
    {
     "name": "stdout",
     "output_type": "stream",
     "text": [
      "Train on 54000 samples, validate on 6000 samples\n",
      "Epoch 1/10\n",
      "54000/54000 [==============================] - 2s 39us/step - loss: 0.0461 - val_loss: 0.0241\n",
      "Epoch 2/10\n",
      "54000/54000 [==============================] - 2s 37us/step - loss: 0.0190 - val_loss: 0.0146\n",
      "Epoch 3/10\n",
      "54000/54000 [==============================] - 2s 37us/step - loss: 0.0121 - val_loss: 0.0100\n",
      "Epoch 4/10\n",
      "54000/54000 [==============================] - 2s 37us/step - loss: 0.0086 - val_loss: 0.0075\n",
      "Epoch 5/10\n",
      "54000/54000 [==============================] - 2s 37us/step - loss: 0.0067 - val_loss: 0.0062\n",
      "Epoch 6/10\n",
      "54000/54000 [==============================] - 2s 38us/step - loss: 0.0057 - val_loss: 0.0054\n",
      "Epoch 7/10\n",
      "54000/54000 [==============================] - 2s 39us/step - loss: 0.0051 - val_loss: 0.0050\n",
      "Epoch 8/10\n",
      "54000/54000 [==============================] - 2s 38us/step - loss: 0.0048 - val_loss: 0.0047\n",
      "Epoch 9/10\n",
      "54000/54000 [==============================] - 2s 37us/step - loss: 0.0046 - val_loss: 0.0046\n",
      "Epoch 10/10\n",
      "54000/54000 [==============================] - 2s 38us/step - loss: 0.0044 - val_loss: 0.0044\n"
     ]
    }
   ],
   "source": [
    "history = autoencoder.fit(x_train,x_train, batch_size = 128, epochs = 10 , verbose = 1 , validation_split=0.1 )"
   ]
  },
  {
   "cell_type": "code",
   "execution_count": 71,
   "metadata": {},
   "outputs": [],
   "source": [
    "decoded_imgs = autoencoder.predict(x_test)"
   ]
  },
  {
   "cell_type": "code",
   "execution_count": 72,
   "metadata": {},
   "outputs": [
    {
     "data": {
      "image/png": "[encoded data removed]",
      "text/plain": [
       "<Figure size 1440x432 with 20 Axes>"
      ]
     },
     "metadata": {
      "needs_background": "light"
     },
     "output_type": "display_data"
    }
   ],
   "source": [
    "n = 10\n",
    "plt.figure(figsize=(20, 6))\n",
    "for i in range(n):\n",
    "    # display original\n",
    "    ax = plt.subplot(3, n, i+1)\n",
    "    plt.imshow(x_test[i].reshape(28, 28))\n",
    "    plt.gray()\n",
    "    ax.get_xaxis().set_visible(False)\n",
    "    ax.get_yaxis().set_visible(False)\n",
    "\n",
    "    \n",
    "    # display reconstruction\n",
    "    ax = plt.subplot(3, n, i+n+1)\n",
    "    plt.imshow(decoded_imgs[i].reshape(28, 28))\n",
    "    plt.gray()\n",
    "    ax.get_xaxis().set_visible(False)\n",
    "    ax.get_yaxis().set_visible(False)\n",
    "    \n",
    "plt.show()"
   ]
  },
  {
   "cell_type": "markdown",
   "metadata": {},
   "source": [
    "Multilayer Autoencoders"
   ]
  },
  {
   "cell_type": "code",
   "execution_count": 74,
   "metadata": {},
   "outputs": [
    {
     "name": "stderr",
     "output_type": "stream",
     "text": [
      "/home/aminul/anaconda3/lib/python3.7/site-packages/ipykernel_launcher.py:15: UserWarning: Update your `Model` call to the Keras 2 API: `Model(inputs=Tensor(\"in..., outputs=Tensor(\"de...)`\n",
      "  from ipykernel import kernelapp as app\n"
     ]
    }
   ],
   "source": [
    "input_size = 784\n",
    "hidden_size_1 = 128\n",
    "hidden_size_2 = 64\n",
    "output_size = 784\n",
    "\n",
    "#encoders\n",
    "x = Input(shape=(input_size,))\n",
    "hidden_1 = Dense(hidden_size_1, activation = 'relu')(x)\n",
    "hidden_2 = Dense(hidden_size_2, activation = 'relu')(hidden_1)\n",
    "\n",
    "#decoders\n",
    "hidden_3 = Dense(hidden_size_1, activation = 'relu')(hidden_2)\n",
    "output = Dense(output_size, activation = 'sigmoid')(hidden_3)\n",
    "\n",
    "multi_ae = Model(input = x, output = output)\n",
    "multi_ae.compile(optimizer = 'adam', loss = 'mse')\n"
   ]
  },
  {
   "cell_type": "code",
   "execution_count": null,
   "metadata": {},
   "outputs": [
    {
     "name": "stdout",
     "output_type": "stream",
     "text": [
      "Train on 54000 samples, validate on 6000 samples\n",
      "Epoch 1/100\n",
      "54000/54000 [==============================] - 3s 64us/step - loss: 0.0431 - val_loss: 0.0207\n",
      "Epoch 2/100\n",
      "54000/54000 [==============================] - 4s 71us/step - loss: 0.0169 - val_loss: 0.0140\n",
      "Epoch 3/100\n",
      "54000/54000 [==============================] - 3s 58us/step - loss: 0.0127 - val_loss: 0.0113\n",
      "Epoch 4/100\n",
      "54000/54000 [==============================] - 3s 55us/step - loss: 0.0106 - val_loss: 0.0101\n",
      "Epoch 5/100\n",
      "54000/54000 [==============================] - 3s 59us/step - loss: 0.0095 - val_loss: 0.0091\n",
      "Epoch 6/100\n",
      "54000/54000 [==============================] - 3s 60us/step - loss: 0.0087 - val_loss: 0.0084\n",
      "Epoch 7/100\n",
      "54000/54000 [==============================] - 3s 61us/step - loss: 0.0080 - val_loss: 0.0078\n",
      "Epoch 8/100\n",
      "54000/54000 [==============================] - 3s 62us/step - loss: 0.0074 - val_loss: 0.0072\n",
      "Epoch 9/100\n",
      "54000/54000 [==============================] - 3s 59us/step - loss: 0.0070 - val_loss: 0.0070\n",
      "Epoch 10/100\n",
      "54000/54000 [==============================] - 3s 61us/step - loss: 0.0066 - val_loss: 0.0066\n",
      "Epoch 11/100\n",
      "54000/54000 [==============================] - 3s 60us/step - loss: 0.0063 - val_loss: 0.0064\n",
      "Epoch 12/100\n",
      "54000/54000 [==============================] - 3s 60us/step - loss: 0.0061 - val_loss: 0.0061\n",
      "Epoch 13/100\n",
      "54000/54000 [==============================] - 3s 59us/step - loss: 0.0059 - val_loss: 0.0059\n",
      "Epoch 14/100\n",
      "54000/54000 [==============================] - 3s 58us/step - loss: 0.0057 - val_loss: 0.0057\n",
      "Epoch 15/100\n",
      "54000/54000 [==============================] - 3s 58us/step - loss: 0.0055 - val_loss: 0.0056\n",
      "Epoch 16/100\n",
      "54000/54000 [==============================] - 3s 54us/step - loss: 0.0054 - val_loss: 0.0056\n",
      "Epoch 17/100\n",
      "54000/54000 [==============================] - 3s 54us/step - loss: 0.0053 - val_loss: 0.0054\n",
      "Epoch 18/100\n",
      "54000/54000 [==============================] - 3s 54us/step - loss: 0.0052 - val_loss: 0.0052\n",
      "Epoch 19/100\n",
      "54000/54000 [==============================] - 3s 53us/step - loss: 0.0051 - val_loss: 0.0051\n",
      "Epoch 20/100\n",
      "27392/54000 [==============>...............] - ETA: 1s - loss: 0.0050"
     ]
    }
   ],
   "source": [
    "earlystopper = EarlyStopping(patience=3, verbose=1)\n",
    "history = multi_ae.fit(x_train,x_train, epochs = 100, batch_size = 128, \n",
    "                       verbose = 1, validation_split=0.1, callbacks =[earlystopper] )"
   ]
  },
  {
   "cell_type": "code",
   "execution_count": null,
   "metadata": {},
   "outputs": [],
   "source": [
    "decoded_imgs = multi_ae.predict(x_test)"
   ]
  },
  {
   "cell_type": "code",
   "execution_count": 64,
   "metadata": {},
   "outputs": [
    {
     "data": {
      "image/png": "[encoded data removed]",
      "text/plain": [
       "<Figure size 1440x432 with 20 Axes>"
      ]
     },
     "metadata": {
      "needs_background": "light"
     },
     "output_type": "display_data"
    }
   ],
   "source": [
    "n = 10\n",
    "plt.figure(figsize=(20, 6))\n",
    "for i in range(n):\n",
    "    # display original\n",
    "    ax = plt.subplot(3, n, i+1)\n",
    "    plt.imshow(x_test[i].reshape(28, 28))\n",
    "    plt.gray()\n",
    "    ax.get_xaxis().set_visible(False)\n",
    "    ax.get_yaxis().set_visible(False)\n",
    "\n",
    "    \n",
    "    # display reconstruction\n",
    "    ax = plt.subplot(3, n, i+n+1)\n",
    "    plt.imshow(decoded_imgs[i].reshape(28, 28))\n",
    "    plt.gray()\n",
    "    ax.get_xaxis().set_visible(False)\n",
    "    ax.get_yaxis().set_visible(False)\n",
    "    \n",
    "plt.show()"
   ]
  },
  {
   "cell_type": "code",
   "execution_count": 65,
   "metadata": {},
   "outputs": [
    {
     "name": "stdout",
     "output_type": "stream",
     "text": [
      "dict_keys(['val_loss', 'loss'])\n"
     ]
    },
    {
     "data": {
      "image/png": "[encoded data removed]",
      "text/plain": [
       "<Figure size 432x288 with 1 Axes>"
      ]
     },
     "metadata": {
      "needs_background": "light"
     },
     "output_type": "display_data"
    }
   ],
   "source": [
    "print(history.history.keys())\n",
    "\n",
    "plt.plot(history.history['loss'])\n",
    "plt.plot(history.history['val_loss'])\n",
    "plt.title('model loss')\n",
    "plt.ylabel('loss')\n",
    "plt.xlabel('epoch')\n",
    "plt.legend(['train', 'validation'], loc='upper right')\n",
    "plt.show()"
   ]
  },
  {
   "cell_type": "code",
   "execution_count": null,
   "metadata": {},
   "outputs": [],
   "source": []
  },
  {
   "cell_type": "code",
   "execution_count": null,
   "metadata": {},
   "outputs": [],
   "source": []
  }
 ],
 "metadata": {
  "kernelspec": {
   "display_name": "Python 3",
   "language": "python",
   "name": "python3"
  },
  "language_info": {
   "codemirror_mode": {
    "name": "ipython",
    "version": 3
   },
   "file_extension": ".py",
   "mimetype": "text/x-python",
   "name": "python",
   "nbconvert_exporter": "python",
   "pygments_lexer": "ipython3",
   "version": "3.7.4"
  }
 },
 "nbformat": 4,
 "nbformat_minor": 4
}
