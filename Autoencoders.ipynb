{
 "cells": [
  {
   "cell_type": "code",
   "execution_count": 11,
   "metadata": {},
   "outputs": [],
   "source": [
    "import numpy as np\n",
    "import dataframe as df\n",
    "from keras import *\n",
    "from keras.layers import *\n",
    "from keras.regularizers import *\n",
    "from keras.datasets import *\n",
    "from keras.models import *\n",
    "from keras.optimizers import *\n",
    "from keras.utils import np_utils\n",
    "import matplotlib.pyplot as plt\n",
    "import tensorflow as tf"
   ]
  },
  {
   "cell_type": "code",
   "execution_count": 15,
   "metadata": {},
   "outputs": [],
   "source": [
    "(x_train,y_train),(x_test,y_test) = mnist.load_data()"
   ]
  },
  {
   "cell_type": "code",
   "execution_count": 16,
   "metadata": {},
   "outputs": [
    {
     "name": "stdout",
     "output_type": "stream",
     "text": [
      "(60000, 28, 28)\n",
      "(10000, 28, 28)\n",
      "(60000, 28, 28, 1)\n",
      "(10000, 28, 28, 1)\n"
     ]
    }
   ],
   "source": [
    "x_train = x_train/255.0\n",
    "x_test = x_test/255.0\n",
    "\n",
    "print(x_train.shape)\n",
    "print(x_test.shape)\n",
    "\n",
    "x_train = x_train.reshape(x_train.shape[0],28,28,1)\n",
    "x_test = x_test.reshape(x_test.shape[0],28,28,1)\n",
    "\n",
    "print(x_train.shape)\n",
    "print(x_test.shape)\n",
    "\n",
    "x_train = x_train.reshape((len(x_train), np.prod(x_train.shape[1:])))\n",
    "x_test = x_test.reshape((len(x_test), np.prod(x_test.shape[1:])))"
   ]
  },
  {
   "cell_type": "code",
   "execution_count": 28,
   "metadata": {},
   "outputs": [],
   "source": [
    "input_size = 784\n",
    "hidden_size = 64\n",
    "output_size = 784\n",
    "\n",
    "x = Input(shape = (input_size,))\n",
    "\n",
    "#encoder\n",
    "h = Dense(hidden_size,activation = 'relu')(x)\n",
    "\n",
    "#decoder\n",
    "r = Dense(output_size,activation='softmax')(h)\n",
    "\n",
    "autoencoder = Model(inputs=x,outputs=r)\n",
    "autoencoder.compile(optimizer ='adam',loss='mse')\n"
   ]
  },
  {
   "cell_type": "code",
   "execution_count": 29,
   "metadata": {},
   "outputs": [
    {
     "name": "stdout",
     "output_type": "stream",
     "text": [
      "Train on 54000 samples, validate on 6000 samples\n",
      "Epoch 1/5\n",
      "54000/54000 [==============================] - 3s 48us/step - loss: 0.1104 - val_loss: 0.1093\n",
      "Epoch 2/5\n",
      "54000/54000 [==============================] - 2s 46us/step - loss: 0.1099 - val_loss: 0.1093\n",
      "Epoch 3/5\n",
      "54000/54000 [==============================] - 3s 59us/step - loss: 0.1099 - val_loss: 0.1093\n",
      "Epoch 4/5\n",
      "54000/54000 [==============================] - 3s 56us/step - loss: 0.1099 - val_loss: 0.1093\n",
      "Epoch 5/5\n",
      "54000/54000 [==============================] - 3s 48us/step - loss: 0.1099 - val_loss: 0.1092\n"
     ]
    }
   ],
   "source": [
    "history = autoencoder.fit(x_train,x_train, batch_size = 128, epochs = 5 , verbose = 1 , validation_split=0.1 )"
   ]
  },
  {
   "cell_type": "code",
   "execution_count": null,
   "metadata": {},
   "outputs": [],
   "source": []
  }
 ],
 "metadata": {
  "kernelspec": {
   "display_name": "Python 3",
   "language": "python",
   "name": "python3"
  },
  "language_info": {
   "codemirror_mode": {
    "name": "ipython",
    "version": 3
   },
   "file_extension": ".py",
   "mimetype": "text/x-python",
   "name": "python",
   "nbconvert_exporter": "python",
   "pygments_lexer": "ipython3",
   "version": "3.7.4"
  }
 },
 "nbformat": 4,
 "nbformat_minor": 4
}
